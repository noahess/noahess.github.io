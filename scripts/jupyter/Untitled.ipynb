{
 "cells": [
  {
   "cell_type": "code",
   "execution_count": 22,
   "metadata": {},
   "outputs": [],
   "source": [
    "text = \"\"\"\n",
    "\n",
    "Assuming 1000 pieces are sold, Boeing would need to limit development spending to $71B to break even; the engine manufacturer would need to provide 2000x 45MW or 4000x 22.5MW pieces at $21B revenue; and the battery manufacturer would need to provide 1000x 100MWh packs for $50B. Assuming 30% margin for the engine and battery manufacturers, that leaves at most $6.3B for the engine manufacturer and $15B for the battery manufacturer in development spending.\n",
    "\n",
    "\"\"\""
   ]
  },
  {
   "cell_type": "code",
   "execution_count": 23,
   "metadata": {},
   "outputs": [
    {
     "name": "stdout",
     "output_type": "stream",
     "text": [
      "\n",
      "\n",
      "\n",
      "\n",
      "Assuming 1000 pieces are sold, Boeing would need to limit development spending to $71B to break even; the engine manufacturer would need to provide 2000x 45MW or 4000x 22.5MW pieces at $21B revenue; and the battery manufacturer would need to provide 1000x 100MWh packs for $50B.\n",
      "Assuming 30% margin for the engine and battery manufacturers, that leaves at most $6.3B for the engine manufacturer and $15B for the battery manufacturer in development spending.\n",
      "\n",
      "\n",
      "\n",
      "\n"
     ]
    }
   ],
   "source": [
    "text = text.replace(' [', '[^')\n",
    "text = text.replace('\\n', '\\n\\n')\n",
    "text = text.replace('. ', '.\\n')\n",
    "print(text)"
   ]
  },
  {
   "cell_type": "code",
   "execution_count": null,
   "metadata": {},
   "outputs": [],
   "source": []
  }
 ],
 "metadata": {
  "kernelspec": {
   "display_name": "Python 3",
   "language": "python",
   "name": "python3"
  },
  "language_info": {
   "codemirror_mode": {
    "name": "ipython",
    "version": 3
   },
   "file_extension": ".py",
   "mimetype": "text/x-python",
   "name": "python",
   "nbconvert_exporter": "python",
   "pygments_lexer": "ipython3",
   "version": "3.7.3"
  }
 },
 "nbformat": 4,
 "nbformat_minor": 2
}
